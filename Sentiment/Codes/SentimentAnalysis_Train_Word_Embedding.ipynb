{
  "nbformat": 4,
  "nbformat_minor": 0,
  "metadata": {
    "colab": {
      "name": "SentimentAnalysis-Train-Word-Embedding.ipynb",
      "provenance": [],
      "collapsed_sections": [],
      "toc_visible": true
    },
    "kernelspec": {
      "name": "python3",
      "display_name": "Python 3"
    },
    "language_info": {
      "name": "python"
    },
    "accelerator": "GPU"
  },
  "cells": [
    {
      "cell_type": "markdown",
      "metadata": {
        "id": "J_nQixLUYpPf"
      },
      "source": [
        "# Collect the Dataset"
      ]
    },
    {
      "cell_type": "markdown",
      "metadata": {
        "id": "0NxnqJsbbgX5"
      },
      "source": [
        "We use, for example, the dataset present in the article, but if you want to train a model in your dataset, you must use your dataset. Or, if you're going to use the dataset present in the article with another model, you only must change the model"
      ]
    },
    {
      "cell_type": "code",
      "metadata": {
        "id": "3gdX0jFkYyF9"
      },
      "source": [
        "!wget https://raw.githubusercontent.com/adailtonaraujo/app_review_analysis/master/Sentiment/Datasets/Dataset_Sentiment_Word-Embedding.zip"
      ],
      "execution_count": null,
      "outputs": []
    },
    {
      "cell_type": "markdown",
      "metadata": {
        "id": "CH4tOlUAzjok"
      },
      "source": [
        "# Word-Embeddings"
      ]
    },
    {
      "cell_type": "markdown",
      "metadata": {
        "id": "EgVWx1qY1ePW"
      },
      "source": [
        "## Install -  Instanciando Framework ABSA"
      ]
    },
    {
      "cell_type": "code",
      "metadata": {
        "id": "1TvGWlw3moeK"
      },
      "source": [
        "!git clone https://github.com/songyouwei/ABSA-PyTorch\n",
        "!mv ABSA-PyTorch/* .\n",
        "!pip install -r requirements.txt"
      ],
      "execution_count": null,
      "outputs": []
    },
    {
      "cell_type": "markdown",
      "metadata": {
        "id": "lbWOL1OeerOc"
      },
      "source": [
        "## Adjustments to the train.py file\n",
        "\n",
        "Replace line 254 of the train.py file with the excerpt below (app review dataset).\n",
        "\n",
        "},\n",
        "        'app_review': {\n",
        "            'train': './app_review/treinamento.csv',\n",
        "            'test': './app_review/teste.csv'\n",
        "        }"
      ]
    },
    {
      "cell_type": "markdown",
      "metadata": {
        "id": "7XjycOEtg2H7"
      },
      "source": [
        "# Train"
      ]
    },
    {
      "cell_type": "code",
      "metadata": {
        "id": "WwPs4pLWztKd"
      },
      "source": [
        "#parm definition\n",
        "epc=1\n",
        "appName='Spotify'"
      ],
      "execution_count": 5,
      "outputs": []
    },
    {
      "cell_type": "code",
      "metadata": {
        "id": "4qJ0f6jzmzVf"
      },
      "source": [
        "!cp app_review/train_except_{appName}.csv app_review/treinamento.csv\n",
        "!cp app_review/test_data_{appName}.txt app_review/teste.csv \n",
        "!python train.py --model_name bert_spc --dataset app_review --num_epoch $epc"
      ],
      "execution_count": null,
      "outputs": []
    }
  ]
}