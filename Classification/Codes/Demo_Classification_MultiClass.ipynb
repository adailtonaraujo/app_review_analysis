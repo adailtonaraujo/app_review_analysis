{
  "nbformat": 4,
  "nbformat_minor": 0,
  "metadata": {
    "colab": {
      "name": "Demo-Classification-MultiClass.ipynb",
      "provenance": []
    },
    "kernelspec": {
      "name": "python3",
      "display_name": "Python 3"
    },
    "language_info": {
      "name": "python"
    }
  },
  "cells": [
    {
      "cell_type": "markdown",
      "metadata": {
        "id": "B12b4gqGwJvS"
      },
      "source": [
        "# Load Model"
      ]
    },
    {
      "cell_type": "markdown",
      "metadata": {
        "id": "Gqa5v3cbyNN_"
      },
      "source": [
        "## At BFRU Dataset"
      ]
    },
    {
      "cell_type": "code",
      "metadata": {
        "id": "Tl9waPFiulSk"
      },
      "source": [
        "!wget https://raw.githubusercontent.com/adailtonaraujo/app_review_analysis/master/Classification/Models/MNB_RoBERTa_BFRU.pkl"
      ],
      "execution_count": null,
      "outputs": []
    },
    {
      "cell_type": "code",
      "metadata": {
        "id": "6F37BoBpyLlk"
      },
      "source": [
        "pkl_filename = \"MNB_RoBERTa_BFRU.pkl\""
      ],
      "execution_count": null,
      "outputs": []
    },
    {
      "cell_type": "markdown",
      "metadata": {
        "id": "aK3Dn3KIyRRr"
      },
      "source": [
        "## At ARE Dataset\n"
      ]
    },
    {
      "cell_type": "code",
      "metadata": {
        "id": "z5B2Sd9dyWKx"
      },
      "source": [
        "!wget https://raw.githubusercontent.com/adailtonaraujo/app_review_analysis/master/Classification/Models/SVM_RoBERTa_ARE.pkl"
      ],
      "execution_count": null,
      "outputs": []
    },
    {
      "cell_type": "code",
      "metadata": {
        "id": "VzlbsSrcyBNS"
      },
      "source": [
        "pkl_filename = \"SVM_RoBERTa_ARE.pkl\""
      ],
      "execution_count": null,
      "outputs": []
    },
    {
      "cell_type": "markdown",
      "metadata": {
        "id": "Zm9B5wSuyijP"
      },
      "source": [
        "## LOAD\n"
      ]
    },
    {
      "cell_type": "code",
      "metadata": {
        "id": "iwk8iW45udWr"
      },
      "source": [
        "import pickle\n",
        "with open(pkl_filename, 'rb') as file:\n",
        "  clf = pickle.load(file)"
      ],
      "execution_count": null,
      "outputs": []
    },
    {
      "cell_type": "markdown",
      "metadata": {
        "id": "R8MM9fmqwMOP"
      },
      "source": [
        "# Represent User Text"
      ]
    },
    {
      "cell_type": "code",
      "metadata": {
        "id": "ogfIE50Zt6N2"
      },
      "source": [
        "!pip install -U sentence-transformers"
      ],
      "execution_count": null,
      "outputs": []
    },
    {
      "cell_type": "code",
      "metadata": {
        "id": "qE_46iwat8_o"
      },
      "source": [
        "from sentence_transformers import SentenceTransformer\n",
        "import numpy as np"
      ],
      "execution_count": null,
      "outputs": []
    },
    {
      "cell_type": "code",
      "metadata": {
        "id": "t4NGweOst-hh"
      },
      "source": [
        "import pandas as pd\n",
        "def WordEmbeddings(texts, algorithm):\n",
        "\n",
        "  model = SentenceTransformer('roberta-large-nli-stsb-mean-tokens')\n",
        "\n",
        "  if type(texts) == pd.core.series.Series:\n",
        "    sentences = texts.replace(['\\t','\\n','\\r'], [' ',' ',' '], regex=True)\n",
        "  else:\n",
        "    sentences = texts\n",
        "\n",
        "  sentence_embeddings = model.encode(list(sentences))\n",
        "\n",
        "  if algorithm == 'MNB':\n",
        "    return np.abs(np.min(sentence_embeddings)) + sentence_embeddings\n",
        "  elif algorithm == 'SVM':\n",
        "    return sentence_embeddings"
      ],
      "execution_count": null,
      "outputs": []
    },
    {
      "cell_type": "markdown",
      "metadata": {
        "id": "tHTRlkEEwd-L"
      },
      "source": [
        "The variable *txts* can be a dataframe column or a list of strings"
      ]
    },
    {
      "cell_type": "markdown",
      "metadata": {
        "id": "h1lB0dUgwSI0"
      },
      "source": [
        "# DEMO"
      ]
    },
    {
      "cell_type": "code",
      "metadata": {
        "colab": {
          "base_uri": "https://localhost:8080/"
        },
        "id": "JPqQXTFRwYdd",
        "outputId": "43f97d8d-21db-4475-d0fd-4c35e18c975f"
      },
      "source": [
        "txts = ['the app always crashes !!!!!!!!!!', 'I loved this app!!']\n",
        "\n",
        "data = WordEmbeddings(txts,pkl_filename.split('_')[0])\n",
        "\n",
        "predicted_classes = clf.predict(data)\n",
        "predicted_classes"
      ],
      "execution_count": null,
      "outputs": [
        {
          "output_type": "execute_result",
          "data": {
            "text/plain": [
              "array(['pbr', 'irr'], dtype='<U3')"
            ]
          },
          "metadata": {
            "tags": []
          },
          "execution_count": 25
        }
      ]
    },
    {
      "cell_type": "markdown",
      "metadata": {
        "id": "VPMMpJ6OyyOB"
      },
      "source": [
        "# Classification Metrics\n"
      ]
    },
    {
      "cell_type": "markdown",
      "metadata": {
        "id": "3UQpVaqxw2hJ"
      },
      "source": [
        "**y_test_class on BFRU:**\n",
        "\n",
        "\n",
        "*   Bug\n",
        "*   Feature\n",
        "*   User Experience\n",
        "*   Rating\n",
        "\n",
        "**y_test_class on ARE:**\n",
        "\n",
        "*   pbr\n",
        "*   iqr\n",
        "*   irr\n",
        "\n",
        "\n",
        "\n",
        "\n"
      ]
    },
    {
      "cell_type": "code",
      "metadata": {
        "id": "vOfIOSbUy2XQ"
      },
      "source": [
        "y_test_class = []"
      ],
      "execution_count": null,
      "outputs": []
    },
    {
      "cell_type": "code",
      "metadata": {
        "id": "d9RG3krcwoKH"
      },
      "source": [
        "from sklearn.metrics import classification_report\n",
        "\n",
        "print(classification_report(y_test_class, predicted_classes, output_dict=False))"
      ],
      "execution_count": null,
      "outputs": []
    }
  ]
}